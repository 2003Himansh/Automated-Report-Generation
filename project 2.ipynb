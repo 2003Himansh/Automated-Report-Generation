{
 "cells": [
  {
   "cell_type": "code",
   "execution_count": 1,
   "id": "835cc0fb-7616-4071-9cb0-0ee447ab7e11",
   "metadata": {},
   "outputs": [
    {
     "data": {
      "text/html": [
       "<div>\n",
       "<style scoped>\n",
       "    .dataframe tbody tr th:only-of-type {\n",
       "        vertical-align: middle;\n",
       "    }\n",
       "\n",
       "    .dataframe tbody tr th {\n",
       "        vertical-align: top;\n",
       "    }\n",
       "\n",
       "    .dataframe thead th {\n",
       "        text-align: right;\n",
       "    }\n",
       "</style>\n",
       "<table border=\"1\" class=\"dataframe\">\n",
       "  <thead>\n",
       "    <tr style=\"text-align: right;\">\n",
       "      <th></th>\n",
       "      <th>Hours</th>\n",
       "      <th>Scores</th>\n",
       "    </tr>\n",
       "  </thead>\n",
       "  <tbody>\n",
       "    <tr>\n",
       "      <th>0</th>\n",
       "      <td>2.5</td>\n",
       "      <td>21</td>\n",
       "    </tr>\n",
       "    <tr>\n",
       "      <th>1</th>\n",
       "      <td>5.1</td>\n",
       "      <td>47</td>\n",
       "    </tr>\n",
       "    <tr>\n",
       "      <th>2</th>\n",
       "      <td>3.2</td>\n",
       "      <td>27</td>\n",
       "    </tr>\n",
       "    <tr>\n",
       "      <th>3</th>\n",
       "      <td>8.5</td>\n",
       "      <td>75</td>\n",
       "    </tr>\n",
       "    <tr>\n",
       "      <th>4</th>\n",
       "      <td>3.5</td>\n",
       "      <td>30</td>\n",
       "    </tr>\n",
       "  </tbody>\n",
       "</table>\n",
       "</div>"
      ],
      "text/plain": [
       "   Hours  Scores\n",
       "0    2.5      21\n",
       "1    5.1      47\n",
       "2    3.2      27\n",
       "3    8.5      75\n",
       "4    3.5      30"
      ]
     },
     "execution_count": 1,
     "metadata": {},
     "output_type": "execute_result"
    }
   ],
   "source": [
    "import pandas as pd\n",
    "student_Scores = pd.read_csv(\"C:/Users/DELL/Downloads/student_scores.csv\")\n",
    "student_Scores.head()\n"
   ]
  },
  {
   "cell_type": "code",
   "execution_count": 52,
   "id": "b5ca1901-7066-4dab-971b-839f48e286e2",
   "metadata": {},
   "outputs": [
    {
     "name": "stdout",
     "output_type": "stream",
     "text": [
      "PDF report generated and saved as: C:/Users/DELL/Desktop/automated_report.pdf\n"
     ]
    }
   ],
   "source": [
    "# Step 1: Import Libraries\n",
    "import pandas as pd\n",
    "from fpdf import FPDF\n",
    "\n",
    "file_path =\"C:/Users/DELL/Downloads/student_scores.csv\" \n",
    "df = pd.read_csv(file_path)\n",
    "\n",
    "summary = df.describe(include='all')\n",
    "\n",
    "class PDFReport(FPDF):\n",
    "    def header(self):\n",
    "        self.set_font('Arial', 'B', 14)\n",
    "        self.cell(0, 10, 'Automated Data Analysis Report', ln=True, align='C')\n",
    "        self.ln(10)\n",
    "\n",
    "    def footer(self):\n",
    "        self.set_y(-15)\n",
    "        self.set_font('Arial', 'I', 8)\n",
    "        self.cell(0, 10, f'Page {self.page_no()}', align='C')\n",
    "\n",
    "    def chapter_title(self, title):\n",
    "        self.set_font('Arial', 'B', 12)\n",
    "        self.set_fill_color(200, 220, 255)\n",
    "        self.cell(0, 10, title, 0, 1, 'L', 1)\n",
    "        self.ln(4)\n",
    "\n",
    "    def chapter_body(self, body):\n",
    "        self.set_font('Arial', '', 11)\n",
    "        self.multi_cell(0, 10, body)\n",
    "        self.ln()\n",
    "\n",
    "# Step 5: Generate PDF\n",
    "pdf = PDFReport()\n",
    "pdf.add_page()\n",
    "\n",
    "# Add Dataset Information\n",
    "pdf.chapter_title(\"1. Dataset Preview\")\n",
    "pdf.chapter_body(df.head().to_string())\n",
    "\n",
    "# Add Summary Statistics\n",
    "pdf.chapter_title(\"2. Data Summary\")\n",
    "pdf.chapter_body(summary.to_string())\n",
    "\n",
    "# Step 6: Output PDF\n",
    "output_path = \"C:/Users/DELL/Desktop/automated_report.pdf\"\n",
    "pdf.output(output_path)\n",
    "\n",
    "print(f\"PDF report generated and saved as: {output_path}\")\n"
   ]
  },
  {
   "cell_type": "code",
   "execution_count": null,
   "id": "acb03816-43cf-4ee7-94d1-1d60a0c4a0ec",
   "metadata": {},
   "outputs": [],
   "source": []
  },
  {
   "cell_type": "code",
   "execution_count": null,
   "id": "2aed6275-f80e-4a61-b933-60246731f8cb",
   "metadata": {},
   "outputs": [],
   "source": []
  },
  {
   "cell_type": "code",
   "execution_count": null,
   "id": "2f1996ed-f9ab-4c78-bf7f-01210383c6d5",
   "metadata": {},
   "outputs": [],
   "source": []
  }
 ],
 "metadata": {
  "kernelspec": {
   "display_name": "Python 3 (ipykernel)",
   "language": "python",
   "name": "python3"
  },
  "language_info": {
   "codemirror_mode": {
    "name": "ipython",
    "version": 3
   },
   "file_extension": ".py",
   "mimetype": "text/x-python",
   "name": "python",
   "nbconvert_exporter": "python",
   "pygments_lexer": "ipython3",
   "version": "3.12.7"
  }
 },
 "nbformat": 4,
 "nbformat_minor": 5
}
